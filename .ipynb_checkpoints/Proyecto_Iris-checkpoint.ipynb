{
 "cells": [
  {
   "cell_type": "markdown",
   "metadata": {
    "colab_type": "text",
    "id": "view-in-github"
   },
   "source": [
    "<a href=\"https://colab.research.google.com/github/mumido/PP1_Grupo_21/blob/main/Proyecto_Iris.ipynb\" target=\"_parent\"><img src=\"https://colab.research.google.com/assets/colab-badge.svg\" alt=\"Open In Colab\"/></a>"
   ]
  },
  {
   "cell_type": "markdown",
   "metadata": {
    "id": "VcOth-N9lYjp"
   },
   "source": [
    "# **Proyecto de Aprendizaje Automático con Conjunto de Datos Iris**\n",
    "\n",
    "Este es un proyecto desarrollado para la materia Práctica Profesionalizante I y tiene como objetivo entrenar un modelo de aprendizaje automático que pueda predecir la especie de una flor Iris basándose en sus características morfológicas.\n"
   ]
  },
  {
   "cell_type": "markdown",
   "metadata": {
    "id": "tHSugJ7clYr7"
   },
   "source": [
    "### **Integrantes del equipo**\n",
    "\n",
    "**El equipo de desarrollo está compuesto por:**\n",
    "\n",
    "•\tEzequiel Cortes Pedernera\n",
    "\n",
    "•\tGonzález Martínez Juan\n",
    "\n",
    "•\tMariano Delfino\n",
    "\n",
    "•\tBeverly Gonzalez Casanova\n",
    "\n",
    "•\tJuan Cortez Zamar\n",
    "\n",
    "•\tMiguel Pacori\n",
    "\n",
    "•\tUmido Marco\n"
   ]
  },
  {
   "cell_type": "markdown",
   "metadata": {
    "id": "EnWzxsjolwNJ"
   },
   "source": [
    "### **Descripción del conjunto de datos**\n",
    "\n",
    "El conjunto de datos utilizado en este proyecto es el conjunto de datos Iris Fisher, que contiene información sobre tres especies diferentes de flores Iris (setosa, versicolor y virginica) y sus características morfológicas, como longitud y ancho del sépalo y del pétalo.\n"
   ]
  },
  {
   "cell_type": "markdown",
   "metadata": {},
   "source": [
    "### !pip install pandas numpy matplotlib seaborn scikit-learn\n",
    "\n",
    "Primero procedemos a instalar las librerías que vamos a utilizar"
   ]
  },
  {
   "cell_type": "markdown",
   "metadata": {
    "id": "EpHzPxrNjlBB"
   },
   "source": [
    "## **Librerías**"
   ]
  },
  {
   "cell_type": "code",
   "execution_count": null,
   "metadata": {},
   "outputs": [],
   "source": [
    "# Importar paquetes necesarios\n",
    "import pandas as pd\n",
    "import numpy as np\n",
    "import matplotlib.pyplot as plt\n",
    "import seaborn as sns\n",
    "from sklearn.model_selection import train_test_split\n",
    "from sklearn.linear_model import LogisticRegression\n",
    "from sklearn.tree import DecisionTreeClassifier\n",
    "from sklearn.metrics import classification_report"
   ]
  },
  {
   "cell_type": "markdown",
   "metadata": {
    "id": "pqWV1UL4jfLK"
   },
   "source": [
    "## **Cargar el conjunto datos**"
   ]
  },
  {
   "cell_type": "code",
   "execution_count": 3,
   "metadata": {},
   "outputs": [],
   "source": [
    "# Leer el conjunto de datos\n",
    "iris_data = pd.read_csv('Iris.csv')"
   ]
  },
  {
   "cell_type": "markdown",
   "metadata": {
    "id": "c7sWc_nAjqKY"
   },
   "source": [
    "## **E.D.A (exploratory data analysis)**"
   ]
  }
 ],
 "metadata": {
  "colab": {
   "authorship_tag": "ABX9TyOdlePv7M9hx0fdciUZ25v5",
   "include_colab_link": true,
   "provenance": [],
   "toc_visible": true
  },
  "kernelspec": {
   "display_name": "Python 3 (ipykernel)",
   "language": "python",
   "name": "python3"
  },
  "language_info": {
   "codemirror_mode": {
    "name": "ipython",
    "version": 3
   },
   "file_extension": ".py",
   "mimetype": "text/x-python",
   "name": "python",
   "nbconvert_exporter": "python",
   "pygments_lexer": "ipython3",
   "version": "3.9.12"
  }
 },
 "nbformat": 4,
 "nbformat_minor": 1
}
