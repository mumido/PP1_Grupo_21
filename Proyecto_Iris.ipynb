{
  "nbformat": 4,
  "nbformat_minor": 0,
  "metadata": {
    "colab": {
      "provenance": [],
      "toc_visible": true,
      "authorship_tag": "ABX9TyOdlePv7M9hx0fdciUZ25v5",
      "include_colab_link": true
    },
    "kernelspec": {
      "name": "python3",
      "display_name": "Python 3"
    },
    "language_info": {
      "name": "python"
    }
  },
  "cells": [
    {
      "cell_type": "markdown",
      "metadata": {
        "id": "view-in-github",
        "colab_type": "text"
      },
      "source": [
        "<a href=\"https://colab.research.google.com/github/mumido/PP1_Grupo_21/blob/main/Proyecto_Iris.ipynb\" target=\"_parent\"><img src=\"https://colab.research.google.com/assets/colab-badge.svg\" alt=\"Open In Colab\"/></a>"
      ]
    },
    {
      "cell_type": "markdown",
      "source": [
        "# **Proyecto de Aprendizaje Automático con Conjunto de Datos Iris**\n",
        "\n",
        "Este es un proyecto desarrollado para la materia Práctica Profesionalizante I y tiene como objetivo entrenar un modelo de aprendizaje automático que pueda predecir la especie de una flor Iris basándose en sus características morfológicas.\n"
      ],
      "metadata": {
        "id": "VcOth-N9lYjp"
      }
    },
    {
      "cell_type": "markdown",
      "source": [
        "### **Integrantes del equipo**\n",
        "\n",
        "**El equipo de desarrollo está compuesto por:**\n",
        "\n",
        "•\tEzequiel Cortes Pedernera\n",
        "\n",
        "•\tGonzález Martínez Juan\n",
        "\n",
        "•\tMariano Delfino\n",
        "\n",
        "•\tBeverly Gonzalez Casanova\n",
        "\n",
        "•\tJuan Cortez Zamar\n",
        "\n",
        "•\tMiguel Pacori\n",
        "\n",
        "•\tUmido Marco\n"
      ],
      "metadata": {
        "id": "tHSugJ7clYr7"
      }
    },
    {
      "cell_type": "markdown",
      "source": [
        "### **Descripción del conjunto de datos**\n",
        "\n",
        "El conjunto de datos utilizado en este proyecto es el conjunto de datos Iris Fisher, que contiene información sobre tres especies diferentes de flores Iris (setosa, versicolor y virginica) y sus características morfológicas, como longitud y ancho del sépalo y del pétalo.\n"
      ],
      "metadata": {
        "id": "EnWzxsjolwNJ"
      }
    },
    {
      "cell_type": "markdown",
      "source": [
        "## **Importación de datos**"
      ],
      "metadata": {
        "id": "pqWV1UL4jfLK"
      }
    },
    {
      "cell_type": "markdown",
      "source": [
        "## **Librerías**"
      ],
      "metadata": {
        "id": "EpHzPxrNjlBB"
      }
    },
    {
      "cell_type": "markdown",
      "source": [
        "## **E.D.A (exploratory data analysis)**"
      ],
      "metadata": {
        "id": "c7sWc_nAjqKY"
      }
    }
  ]
}